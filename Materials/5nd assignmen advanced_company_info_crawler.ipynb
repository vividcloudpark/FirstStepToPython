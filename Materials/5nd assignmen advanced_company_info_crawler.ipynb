{
 "cells": [
  {
   "cell_type": "markdown",
   "metadata": {},
   "source": [
    "# 3rd_week assignment: Job Korea Crawler: #\n"
   ]
  },
  {
   "cell_type": "markdown",
   "metadata": {},
   "source": [
    "어떤 과제를 준비해볼까 하다가, 교수님이 지금 당장 필요한 것들을 직접 과제로 해 가는것이 성취에도, 실력에도 도움이 되리라 생각해 이러한 과제를 내게 되었습니다. \n",
    "아래의 주소에서 코드를 복사해 workspace에 .py 파일로 저장하십시오."
   ]
  },
  {
   "cell_type": "markdown",
   "metadata": {},
   "source": [
    "https://raw.githubusercontent.com/vividcloudpark/FirstStepToPython/master/Materials/Code/3rd%20assignment_company_info_crawler.py\n",
    "    "
   ]
  },
  {
   "cell_type": "markdown",
   "metadata": {},
   "source": [
    "## 1.이건 어떤코드인가?\n",
    "\n",
    "이것은 잡코리아 기업에 대한 정보를 얻는 코드입니다. 추후에는 정보에 다해 크롤링할 것이지만, 기업정보에 대해 알아야 추후 우리가 정보를 얻는것에 매칭해 사용아 가능하곘지요? 이 코드는 브라우저를 이용하지 않고 URL주소에 접속해 HTML문서를 가져오고, 누누히 말헀던 Beautiful Soup를 통해 HTML을 분석해 가져오는 도구입니다. 아래의 예시를 볼까요?"
   ]
  },
  {
   "cell_type": "code",
   "execution_count": 6,
   "metadata": {
    "collapsed": true
   },
   "outputs": [],
   "source": [
    "def get_page(url):\n",
    "    response = urllib.request.urlopen(url)\n",
    "    page = response.read().decode(response.headers.get_content_charset())\n",
    "    return page"
   ]
  },
  {
   "cell_type": "markdown",
   "metadata": {},
   "source": [
    "위의 코드는 urllib이 접속해 page를 반환합니다. page는 HTML 형태로 반환됩니다."
   ]
  },
  {
   "cell_type": "code",
   "execution_count": 7,
   "metadata": {
    "collapsed": true
   },
   "outputs": [],
   "source": [
    "def get_soup(page):\n",
    "    soup = BeautifulSoup(page, \"lxml\")\n",
    "    return soup"
   ]
  },
  {
   "cell_type": "markdown",
   "metadata": {},
   "source": [
    "위의 코드는 위에서 받은 page를 BeautifulSoup가 읽을 수 있는 형태로 반환했습니다."
   ]
  },
  {
   "cell_type": "code",
   "execution_count": 8,
   "metadata": {
    "collapsed": true
   },
   "outputs": [],
   "source": [
    "def get_soup_by_page(url):\n",
    "    page = get_page(url)\n",
    "    company_info_soup = get_soup(page)\n",
    "    return company_info_soup"
   ]
  },
  {
   "cell_type": "markdown",
   "metadata": {},
   "source": [
    "위의 코드는 위의 두 get_page와 get_soup를 한꺼번에 연결하는 논리적인 함수입니다. url을 넣으면 두 함수를 실행한 후 company_info_soup로 리턴합니다. "
   ]
  },
  {
   "cell_type": "code",
   "execution_count": 9,
   "metadata": {
    "collapsed": true
   },
   "outputs": [],
   "source": [
    "def get_company_name(company_info_soup):\n",
    "    name_container = company_info_soup.find(\"div\", class_=\"company-header-branding-body\")\n",
    "    company_name = name_container.find(\"div\", class_=\"name\").get_text()\n",
    "    return company_name"
   ]
  },
  {
   "cell_type": "markdown",
   "metadata": {},
   "source": [
    "beautifulsoup에서 많이 사용될 문법입니다. '.find'를 이용하면 뒤쪽의 구분자에서 찾을 수 있는 값을 리턴합니다. find는 가장 먼저 보이는 하나의 요청을 'str'형태로 리턴하고, find_all은 찾을 수 있는 모든 값을 list형태로 리턴합니다.\n",
    "\n",
    "name_container.find(\"div\", class_=\"name\")의 결과는 아래와 같이 출력됩니다."
   ]
  },
  {
   "cell_type": "markdown",
   "metadata": {},
   "source": [
    "<div class=\"name\">\n",
    "                    ㈜JYP엔터테인먼트\n",
    "</div>              \n",
    "        "
   ]
  },
  {
   "cell_type": "markdown",
   "metadata": {},
   "source": [
    "이렇듯 div와 /div안에 어떠한 값이 있습니다.\n",
    "\n",
    "이 값을 가져오는 함수가 '.get_text()'함수입니다.\n",
    "\n",
    "이러한 함수는 모두 beautifulsoup패키지 안에 미리 정의되어있는 함수입니다. get_text의 결과는 아래와 같습니다."
   ]
  },
  {
   "cell_type": "markdown",
   "metadata": {},
   "source": [
    "                    ㈜JYP엔터테인먼트"
   ]
  },
  {
   "cell_type": "markdown",
   "metadata": {},
   "source": [
    "앞에 있는 공백은 잘못된 것이 아닙니다. 교수님이 해결하셔야할 문제입니다. "
   ]
  },
  {
   "cell_type": "markdown",
   "metadata": {},
   "source": [
    "## 어떤 것을 만들어야하나?\n",
    "\n",
    "제가 원하는 결과값은 아래와 같습니다."
   ]
  },
  {
   "cell_type": "markdown",
   "metadata": {},
   "source": [
    "㈜JYP엔터테인먼트\n",
    "\n",
    "{'산업': '연예·엔터테인먼트', '사원수': '197명', '기업구분': '중소기업', '설립일': '1997.11.18', '자본금': '170억 2천만원', '매출액': '967억', '대표자': '정욱', '주요사업': '엔터테인먼트', '4대보험': '국민연금, 건강보험, 고용보험,\n",
    " 산재보험', '홈페이지': 'http://www.jype.com/', '주소 ': '서울 강동구 강동대로 205 (성내동, JYPCenter) ㈜제이와이피엔터테인먼트  '}\n"
   ]
  },
  {
   "cell_type": "markdown",
   "metadata": {},
   "source": [
    "## 해야하는것\n",
    "\n",
    "1.company_name의 양쪽 공백을 제거하십시오.\n",
    "\n",
    "2.values와 labels에서, 각 div 안에 있는 값들을 미리 만들어진 value_list와 lable_list에 get_text() 함수를 이용해 값만 list에 넣으십시오. list에 값을 넣는 함수는 .append()입니다.  참고 : (https://wikidocs.net/14)\n",
    "\n",
    "3.반환받은 lable_list와 value_list에서 값을 빼서, 미리 만들어둔 lable_value_dict에 lable과 value를 key-value 형식으로 만드십시오. enumerate를 이용해야합니다. dict에 (중복되지않은)값을 입력하는 방법은 아래와 같습니다. "
   ]
  },
  {
   "cell_type": "code",
   "execution_count": 19,
   "metadata": {},
   "outputs": [
    {
     "name": "stdout",
     "output_type": "stream",
     "text": [
      "{'교수님': '조성준'}\n"
     ]
    }
   ],
   "source": [
    "a = {}\n",
    "a['교수님'] = '조성준'\n",
    "print(a)"
   ]
  },
  {
   "cell_type": "markdown",
   "metadata": {},
   "source": [
    "4.get_spec의 dict를 작성하십시오. item_percent와 average_item_score를 가질 수 있는 dict이여야 합니다. \n",
    "\n",
    "5.save(dict)를 완성하십시오. 지금까지 완성한 label-value_dict, 그리고 위의 get_spec dict를 한줄에 넣을 수 있게 구성해야합니다. 예제 코드를 참고하세요."
   ]
  },
  {
   "cell_type": "code",
   "execution_count": null,
   "metadata": {
    "collapsed": true
   },
   "outputs": [],
   "source": [
    "writer.writerow({'first_name': 'Baked', 'last_name': 'Beans'})"
   ]
  },
  {
   "cell_type": "markdown",
   "metadata": {
    "collapsed": true
   },
   "source": [
    "위의 코드에서 first_name과 last_name은 컬럼의 이름, 그리고 'Baked'와 'Beans'는 값을 의미합니다. 컬럼의 이름을 모두 적어도 되지만, for 문과 list(dict.keys())를 이용하여 프로그래밍적으로 완성하는것도 좋습니다. DictWriter에 대해 이해한다면 더 쉬운 방법도 있습니다:) \n",
    "\n",
    "마지막 5번이 다소 어려울 수 있지만, 코드 작성능력을 아주 올려줄 것이니 꼭 고민해 보시길 바랍니다. \n",
    "\n",
    "이 코드가 완성된다면, 이제 기업별 코드만 묶게 된다면 company_number만 계속 수정해서 for문을 돌리면 크롤러가 완성됩니다. "
   ]
  }
 ],
 "metadata": {
  "kernelspec": {
   "display_name": "Python 3",
   "language": "python",
   "name": "python3"
  },
  "language_info": {
   "codemirror_mode": {
    "name": "ipython",
    "version": 3
   },
   "file_extension": ".py",
   "mimetype": "text/x-python",
   "name": "python",
   "nbconvert_exporter": "python",
   "pygments_lexer": "ipython3",
   "version": "3.6.3"
  }
 },
 "nbformat": 4,
 "nbformat_minor": 2
}
